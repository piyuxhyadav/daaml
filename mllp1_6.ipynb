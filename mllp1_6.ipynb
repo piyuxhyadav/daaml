{
  "nbformat": 4,
  "nbformat_minor": 0,
  "metadata": {
    "colab": {
      "provenance": []
    },
    "kernelspec": {
      "name": "python3",
      "display_name": "Python 3"
    },
    "language_info": {
      "name": "python"
    }
  },
  "cells": [
    {
      "cell_type": "code",
      "source": [
        "import pandas as pd\n",
        "from keras.models import Sequential\n",
        "from keras.layers import Dense"
      ],
      "metadata": {
        "id": "dT6O0Fp4Yo1N"
      },
      "execution_count": null,
      "outputs": []
    },
    {
      "cell_type": "code",
      "source": [
        "df= pd.read_csv(\"/content/pima-indians-diabetes.data.csv\")"
      ],
      "metadata": {
        "id": "IIn1mvszZhqc"
      },
      "execution_count": null,
      "outputs": []
    },
    {
      "cell_type": "code",
      "source": [
        "x= df.iloc[:,0:8].values\n"
      ],
      "metadata": {
        "id": "LzlJjdE8ZsER"
      },
      "execution_count": null,
      "outputs": []
    },
    {
      "cell_type": "code",
      "source": [
        "y= df.iloc[:,8].values\n"
      ],
      "metadata": {
        "id": "KRvt_oHZZz7d"
      },
      "execution_count": null,
      "outputs": []
    },
    {
      "cell_type": "code",
      "source": [
        "model=Sequential()\n",
        "model.add(Dense(12,input_dim=8,activation='relu'))\n",
        "model.add(Dense(8,activation='relu'))\n",
        "model.add(Dense(1, activation='sigmoid'))\n",
        "\n",
        "model.compile(loss='binary_crossentropy', optimizer='adam', metrics=['accuracy'])\n",
        "model.fit(x,y,epochs=10, batch_size=10)\n",
        "\n",
        "_,accuracy= model.evaluate(x,y)\n",
        "\n",
        "\n",
        "\n"
      ],
      "metadata": {
        "colab": {
          "base_uri": "https://localhost:8080/"
        },
        "id": "7Yq3OAcpaJHr",
        "outputId": "3ec20765-ebcc-421a-8fac-de193e5a2a3d"
      },
      "execution_count": null,
      "outputs": [
        {
          "output_type": "stream",
          "name": "stdout",
          "text": [
            "Epoch 1/10\n",
            "77/77 [==============================] - 1s 4ms/step - loss: 10.4003 - accuracy: 0.5658\n",
            "Epoch 2/10\n",
            "77/77 [==============================] - 0s 6ms/step - loss: 4.3554 - accuracy: 0.5880\n",
            "Epoch 3/10\n",
            "77/77 [==============================] - 0s 2ms/step - loss: 3.1281 - accuracy: 0.5854\n",
            "Epoch 4/10\n",
            "77/77 [==============================] - 0s 2ms/step - loss: 2.5537 - accuracy: 0.6089\n",
            "Epoch 5/10\n",
            "77/77 [==============================] - 0s 3ms/step - loss: 2.0845 - accuracy: 0.6010\n",
            "Epoch 6/10\n",
            "77/77 [==============================] - 0s 6ms/step - loss: 1.7806 - accuracy: 0.6154\n",
            "Epoch 7/10\n",
            "77/77 [==============================] - 0s 2ms/step - loss: 1.5171 - accuracy: 0.6271\n",
            "Epoch 8/10\n",
            "77/77 [==============================] - 0s 2ms/step - loss: 1.2865 - accuracy: 0.6219\n",
            "Epoch 9/10\n",
            "77/77 [==============================] - 0s 2ms/step - loss: 1.0648 - accuracy: 0.6467\n",
            "Epoch 10/10\n",
            "77/77 [==============================] - 0s 2ms/step - loss: 1.0110 - accuracy: 0.6336\n"
          ]
        },
        {
          "output_type": "execute_result",
          "data": {
            "text/plain": [
              "<keras.callbacks.History at 0x7f0593585cd0>"
            ]
          },
          "metadata": {},
          "execution_count": 43
        }
      ]
    },
    {
      "cell_type": "code",
      "source": [
        "!pip install ann_visualizer"
      ],
      "metadata": {
        "colab": {
          "base_uri": "https://localhost:8080/"
        },
        "id": "OLl7E80YbzUE",
        "outputId": "19ab4a56-cc10-4646-9f8f-c5e95335f621"
      },
      "execution_count": null,
      "outputs": [
        {
          "output_type": "stream",
          "name": "stdout",
          "text": [
            "Looking in indexes: https://pypi.org/simple, https://us-python.pkg.dev/colab-wheels/public/simple/\n",
            "Collecting ann_visualizer\n",
            "  Downloading ann_visualizer-2.5.tar.gz (4.7 kB)\n",
            "Building wheels for collected packages: ann-visualizer\n",
            "  Building wheel for ann-visualizer (setup.py) ... \u001b[?25l\u001b[?25hdone\n",
            "  Created wheel for ann-visualizer: filename=ann_visualizer-2.5-py3-none-any.whl size=4168 sha256=2b5cbea8aae9e5ba89ad1a3c7d0f68b1ebc4915d96cc5c4e074118fbf694957e\n",
            "  Stored in directory: /root/.cache/pip/wheels/1b/fc/58/2ab1c3b30350105929308becddda4fb59b1358e54f985e1f4a\n",
            "Successfully built ann-visualizer\n",
            "Installing collected packages: ann-visualizer\n",
            "Successfully installed ann-visualizer-2.5\n"
          ]
        }
      ]
    },
    {
      "cell_type": "code",
      "source": [
        "from ann_visualizer.visualize import ann_viz;\n"
      ],
      "metadata": {
        "id": "IZhbmMahbV3Z"
      },
      "execution_count": null,
      "outputs": []
    },
    {
      "cell_type": "code",
      "source": [
        "ann_viz(model,title=\"Artificial Neural Network\")"
      ],
      "metadata": {
        "id": "FXGOHl8qblKx"
      },
      "execution_count": null,
      "outputs": []
    },
    {
      "cell_type": "code",
      "source": [],
      "metadata": {
        "id": "75iuxtxob2hr"
      },
      "execution_count": null,
      "outputs": []
    }
  ]
}